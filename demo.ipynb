{
 "cells": [
  {
   "cell_type": "code",
   "execution_count": 1,
   "metadata": {},
   "outputs": [],
   "source": [
    "import torch\n",
    "import torchaudio\n",
    "import sys\n",
    "import os\n",
    "import random\n",
    "import IPython.display as ipd\n",
    "import numpy as np"
   ]
  },
  {
   "cell_type": "code",
   "execution_count": 2,
   "metadata": {},
   "outputs": [
    {
     "name": "stdout",
     "output_type": "stream",
     "text": [
      "[setup]: determining CUDA support...\n",
      "PyTorch version: 2.0.1+cu118\n",
      "Torchaudio version: 2.0.2+cu118\n",
      "CUDA is available: True\n"
     ]
    }
   ],
   "source": [
    "device = torch.device(\"cuda\" if torch.cuda.is_available() else \"cpu\")\n",
    "print(\"[setup]: determining CUDA support...\")\n",
    "print(\"PyTorch version:\", torch.__version__)\n",
    "print(\"Torchaudio version:\", torchaudio.__version__)\n",
    "print(\"CUDA is available:\", torch.cuda.is_available())\n"
   ]
  },
  {
   "cell_type": "code",
   "execution_count": 3,
   "metadata": {},
   "outputs": [
    {
     "name": "stdout",
     "output_type": "stream",
     "text": [
      "Collecting pytorchvideo@ git+https://github.com/facebookresearch/pytorchvideo.git@28fe037d212663c6a24f373b94cc5d478c8c1a1d\n",
      "  Using cached pytorchvideo-0.1.5-py3-none-any.whl\n",
      "Requirement already satisfied: fvcore in /home/red/miniconda3/envs/kws/lib/python3.11/site-packages (from pytorchvideo@ git+https://github.com/facebookresearch/pytorchvideo.git@28fe037d212663c6a24f373b94cc5d478c8c1a1d) (0.1.5.post20221221)\n",
      "Requirement already satisfied: av in /home/red/miniconda3/envs/kws/lib/python3.11/site-packages (from pytorchvideo@ git+https://github.com/facebookresearch/pytorchvideo.git@28fe037d212663c6a24f373b94cc5d478c8c1a1d) (10.0.0)\n",
      "Requirement already satisfied: parameterized in /home/red/miniconda3/envs/kws/lib/python3.11/site-packages (from pytorchvideo@ git+https://github.com/facebookresearch/pytorchvideo.git@28fe037d212663c6a24f373b94cc5d478c8c1a1d) (0.9.0)\n",
      "Requirement already satisfied: iopath in /home/red/miniconda3/envs/kws/lib/python3.11/site-packages (from pytorchvideo@ git+https://github.com/facebookresearch/pytorchvideo.git@28fe037d212663c6a24f373b94cc5d478c8c1a1d) (0.1.10)\n",
      "Requirement already satisfied: networkx in /home/red/miniconda3/envs/kws/lib/python3.11/site-packages (from pytorchvideo@ git+https://github.com/facebookresearch/pytorchvideo.git@28fe037d212663c6a24f373b94cc5d478c8c1a1d) (3.0)\n",
      "Requirement already satisfied: numpy in /home/red/miniconda3/envs/kws/lib/python3.11/site-packages (from fvcore->pytorchvideo@ git+https://github.com/facebookresearch/pytorchvideo.git@28fe037d212663c6a24f373b94cc5d478c8c1a1d) (1.24.1)\n",
      "Requirement already satisfied: yacs>=0.1.6 in /home/red/miniconda3/envs/kws/lib/python3.11/site-packages (from fvcore->pytorchvideo@ git+https://github.com/facebookresearch/pytorchvideo.git@28fe037d212663c6a24f373b94cc5d478c8c1a1d) (0.1.8)\n",
      "Requirement already satisfied: pyyaml>=5.1 in /home/red/miniconda3/envs/kws/lib/python3.11/site-packages (from fvcore->pytorchvideo@ git+https://github.com/facebookresearch/pytorchvideo.git@28fe037d212663c6a24f373b94cc5d478c8c1a1d) (6.0)\n",
      "Requirement already satisfied: tqdm in /home/red/miniconda3/envs/kws/lib/python3.11/site-packages (from fvcore->pytorchvideo@ git+https://github.com/facebookresearch/pytorchvideo.git@28fe037d212663c6a24f373b94cc5d478c8c1a1d) (4.65.0)\n",
      "Requirement already satisfied: termcolor>=1.1 in /home/red/miniconda3/envs/kws/lib/python3.11/site-packages (from fvcore->pytorchvideo@ git+https://github.com/facebookresearch/pytorchvideo.git@28fe037d212663c6a24f373b94cc5d478c8c1a1d) (2.3.0)\n",
      "Requirement already satisfied: Pillow in /home/red/miniconda3/envs/kws/lib/python3.11/site-packages (from fvcore->pytorchvideo@ git+https://github.com/facebookresearch/pytorchvideo.git@28fe037d212663c6a24f373b94cc5d478c8c1a1d) (9.3.0)\n",
      "Requirement already satisfied: tabulate in /home/red/miniconda3/envs/kws/lib/python3.11/site-packages (from fvcore->pytorchvideo@ git+https://github.com/facebookresearch/pytorchvideo.git@28fe037d212663c6a24f373b94cc5d478c8c1a1d) (0.9.0)\n",
      "Requirement already satisfied: typing-extensions in /home/red/miniconda3/envs/kws/lib/python3.11/site-packages (from iopath->pytorchvideo@ git+https://github.com/facebookresearch/pytorchvideo.git@28fe037d212663c6a24f373b94cc5d478c8c1a1d) (4.6.3)\n",
      "Requirement already satisfied: portalocker in /home/red/miniconda3/envs/kws/lib/python3.11/site-packages (from iopath->pytorchvideo@ git+https://github.com/facebookresearch/pytorchvideo.git@28fe037d212663c6a24f373b94cc5d478c8c1a1d) (2.7.0)\n",
      "Requirement already satisfied: timm in /home/red/miniconda3/envs/kws/lib/python3.11/site-packages (0.9.2)\n",
      "Requirement already satisfied: torch>=1.7 in /home/red/miniconda3/envs/kws/lib/python3.11/site-packages (from timm) (2.0.1+cu118)\n",
      "Requirement already satisfied: torchvision in /home/red/miniconda3/envs/kws/lib/python3.11/site-packages (from timm) (0.15.2+cu118)\n",
      "Requirement already satisfied: pyyaml in /home/red/miniconda3/envs/kws/lib/python3.11/site-packages (from timm) (6.0)\n",
      "Requirement already satisfied: huggingface-hub in /home/red/miniconda3/envs/kws/lib/python3.11/site-packages (from timm) (0.15.1)\n",
      "Requirement already satisfied: safetensors in /home/red/miniconda3/envs/kws/lib/python3.11/site-packages (from timm) (0.3.1)\n",
      "Requirement already satisfied: filelock in /home/red/miniconda3/envs/kws/lib/python3.11/site-packages (from torch>=1.7->timm) (3.9.0)\n",
      "Requirement already satisfied: typing-extensions in /home/red/miniconda3/envs/kws/lib/python3.11/site-packages (from torch>=1.7->timm) (4.6.3)\n",
      "Requirement already satisfied: sympy in /home/red/miniconda3/envs/kws/lib/python3.11/site-packages (from torch>=1.7->timm) (1.11.1)\n",
      "Requirement already satisfied: networkx in /home/red/miniconda3/envs/kws/lib/python3.11/site-packages (from torch>=1.7->timm) (3.0)\n",
      "Requirement already satisfied: jinja2 in /home/red/miniconda3/envs/kws/lib/python3.11/site-packages (from torch>=1.7->timm) (3.1.2)\n",
      "Requirement already satisfied: triton==2.0.0 in /home/red/miniconda3/envs/kws/lib/python3.11/site-packages (from torch>=1.7->timm) (2.0.0)\n",
      "Requirement already satisfied: cmake in /home/red/miniconda3/envs/kws/lib/python3.11/site-packages (from triton==2.0.0->torch>=1.7->timm) (3.25.0)\n",
      "Requirement already satisfied: lit in /home/red/miniconda3/envs/kws/lib/python3.11/site-packages (from triton==2.0.0->torch>=1.7->timm) (15.0.7)\n",
      "Requirement already satisfied: fsspec in /home/red/miniconda3/envs/kws/lib/python3.11/site-packages (from huggingface-hub->timm) (2023.6.0)\n",
      "Requirement already satisfied: requests in /home/red/miniconda3/envs/kws/lib/python3.11/site-packages (from huggingface-hub->timm) (2.28.1)\n",
      "Requirement already satisfied: tqdm>=4.42.1 in /home/red/miniconda3/envs/kws/lib/python3.11/site-packages (from huggingface-hub->timm) (4.65.0)\n",
      "Requirement already satisfied: packaging>=20.9 in /home/red/miniconda3/envs/kws/lib/python3.11/site-packages (from huggingface-hub->timm) (23.1)\n",
      "Requirement already satisfied: numpy in /home/red/miniconda3/envs/kws/lib/python3.11/site-packages (from torchvision->timm) (1.24.1)\n",
      "Requirement already satisfied: pillow!=8.3.*,>=5.3.0 in /home/red/miniconda3/envs/kws/lib/python3.11/site-packages (from torchvision->timm) (9.3.0)\n",
      "Requirement already satisfied: MarkupSafe>=2.0 in /home/red/miniconda3/envs/kws/lib/python3.11/site-packages (from jinja2->torch>=1.7->timm) (2.1.2)\n",
      "Requirement already satisfied: charset-normalizer<3,>=2 in /home/red/miniconda3/envs/kws/lib/python3.11/site-packages (from requests->huggingface-hub->timm) (2.1.1)\n",
      "Requirement already satisfied: idna<4,>=2.5 in /home/red/miniconda3/envs/kws/lib/python3.11/site-packages (from requests->huggingface-hub->timm) (3.4)\n",
      "Requirement already satisfied: urllib3<1.27,>=1.21.1 in /home/red/miniconda3/envs/kws/lib/python3.11/site-packages (from requests->huggingface-hub->timm) (1.26.13)\n",
      "Requirement already satisfied: certifi>=2017.4.17 in /home/red/miniconda3/envs/kws/lib/python3.11/site-packages (from requests->huggingface-hub->timm) (2022.12.7)\n",
      "Requirement already satisfied: mpmath>=0.19 in /home/red/miniconda3/envs/kws/lib/python3.11/site-packages (from sympy->torch>=1.7->timm) (1.2.1)\n",
      "Requirement already satisfied: ftfy in /home/red/miniconda3/envs/kws/lib/python3.11/site-packages (6.1.1)\n",
      "Requirement already satisfied: wcwidth>=0.2.5 in /home/red/miniconda3/envs/kws/lib/python3.11/site-packages (from ftfy) (0.2.6)\n",
      "Requirement already satisfied: regex in /home/red/miniconda3/envs/kws/lib/python3.11/site-packages (2023.6.3)\n",
      "Requirement already satisfied: einops in /home/red/miniconda3/envs/kws/lib/python3.11/site-packages (0.6.1)\n",
      "Requirement already satisfied: fvcore in /home/red/miniconda3/envs/kws/lib/python3.11/site-packages (0.1.5.post20221221)\n",
      "Requirement already satisfied: numpy in /home/red/miniconda3/envs/kws/lib/python3.11/site-packages (from fvcore) (1.24.1)\n",
      "Requirement already satisfied: yacs>=0.1.6 in /home/red/miniconda3/envs/kws/lib/python3.11/site-packages (from fvcore) (0.1.8)\n",
      "Requirement already satisfied: pyyaml>=5.1 in /home/red/miniconda3/envs/kws/lib/python3.11/site-packages (from fvcore) (6.0)\n",
      "Requirement already satisfied: tqdm in /home/red/miniconda3/envs/kws/lib/python3.11/site-packages (from fvcore) (4.65.0)\n",
      "Requirement already satisfied: termcolor>=1.1 in /home/red/miniconda3/envs/kws/lib/python3.11/site-packages (from fvcore) (2.3.0)\n",
      "Requirement already satisfied: Pillow in /home/red/miniconda3/envs/kws/lib/python3.11/site-packages (from fvcore) (9.3.0)\n",
      "Requirement already satisfied: tabulate in /home/red/miniconda3/envs/kws/lib/python3.11/site-packages (from fvcore) (0.9.0)\n",
      "Requirement already satisfied: iopath>=0.1.7 in /home/red/miniconda3/envs/kws/lib/python3.11/site-packages (from fvcore) (0.1.10)\n",
      "Requirement already satisfied: typing-extensions in /home/red/miniconda3/envs/kws/lib/python3.11/site-packages (from iopath>=0.1.7->fvcore) (4.6.3)\n",
      "Requirement already satisfied: portalocker in /home/red/miniconda3/envs/kws/lib/python3.11/site-packages (from iopath>=0.1.7->fvcore) (2.7.0)\n",
      "Requirement already satisfied: decord in /home/red/miniconda3/envs/kws/lib/python3.11/site-packages (0.6.0)\n",
      "Requirement already satisfied: numpy>=1.14.0 in /home/red/miniconda3/envs/kws/lib/python3.11/site-packages (from decord) (1.24.1)\n"
     ]
    },
    {
     "name": "stderr",
     "output_type": "stream",
     "text": [
      "/home/red/miniconda3/envs/kws/lib/python3.11/site-packages/torchvision/transforms/functional_tensor.py:5: UserWarning: The torchvision.transforms.functional_tensor module is deprecated in 0.15 and will be **removed in 0.17**. Please don't rely on it. You probably just need to use APIs in torchvision.transforms.functional or in torchvision.transforms.v2.functional.\n",
      "  warnings.warn(\n",
      "/home/red/miniconda3/envs/kws/lib/python3.11/site-packages/torchvision/transforms/_functional_video.py:6: UserWarning: The 'torchvision.transforms._functional_video' module is deprecated since 0.12 and will be removed in the future. Please use the 'torchvision.transforms.functional' module instead.\n",
      "  warnings.warn(\n",
      "/home/red/miniconda3/envs/kws/lib/python3.11/site-packages/torchvision/transforms/_transforms_video.py:22: UserWarning: The 'torchvision.transforms._transforms_video' module is deprecated since 0.12 and will be removed in the future. Please use the 'torchvision.transforms' module instead.\n",
      "  warnings.warn(\n"
     ]
    }
   ],
   "source": [
    "libs = [\n",
    "    \"pytorchvideo@git+https://github.com/facebookresearch/pytorchvideo.git@28fe037d212663c6a24f373b94cc5d478c8c1a1d\",\n",
    "    \"timm\",\n",
    "    \"ftfy\",\n",
    "    \"regex\",\n",
    "    \"einops\",\n",
    "    \"fvcore\",\n",
    "    \"decord\"\n",
    "]\n",
    "\n",
    "for lib in libs:\n",
    "    command = f\"pip install {lib}\"\n",
    "    os.system(command)\n",
    "\n",
    "model_path = \"./models/imagebind_huge.pth\"\n",
    "if (not os.path.exists(model_path)):\n",
    "    os.system(\"wget -nc -P models https://dl.fbaipublicfiles.com/imagebind/imagebind_huge.pth\")\n",
    "\n",
    "imagebindmodels_path = os.path.abspath('./models')\n",
    "if imagebindmodels_path not in sys.path:\n",
    "    sys.path.append(imagebindmodels_path)\n",
    "imagebindbpe_path = os.path.abspath('./bpe')\n",
    "if imagebindbpe_path not in sys.path:\n",
    "    sys.path.append(imagebindbpe_path)\n",
    "\n",
    "import data\n",
    "from models import imagebind_model\n",
    "from models.imagebind_model import ModalityType"
   ]
  },
  {
   "cell_type": "code",
   "execution_count": 4,
   "metadata": {},
   "outputs": [],
   "source": [
    "device = \"cuda:0\" if torch.cuda.is_available() else \"cpu\"\n",
    "\n",
    "# Instantiate ImageBind model\n",
    "model = imagebind_model.imagebind_huge(pretrained=True)\n",
    "model.eval()\n",
    "model = model.to(device)"
   ]
  },
  {
   "cell_type": "code",
   "execution_count": 5,
   "metadata": {},
   "outputs": [
    {
     "name": "stdout",
     "output_type": "stream",
     "text": [
      "loading training data...\n",
      "loading testing data...\n",
      "loading validation data...\n"
     ]
    }
   ],
   "source": [
    "from torchaudio.datasets import SPEECHCOMMANDS\n",
    "import os\n",
    "\n",
    "class SubsetSC(SPEECHCOMMANDS):\n",
    "    def __init__(self, subset: str = None):\n",
    "        super().__init__(\"./data\", download=True)\n",
    "\n",
    "        def load_list(filename):\n",
    "            filepath = os.path.join(self._path, filename)\n",
    "            with open(filepath) as fileobj:\n",
    "                return [os.path.normpath(os.path.join(self._path, line.strip())) for line in fileobj]\n",
    "\n",
    "        if subset == \"validation\":\n",
    "            self._walker = load_list(\"validation_list.txt\")\n",
    "        elif subset == \"testing\":\n",
    "            self._walker = load_list(\"testing_list.txt\")\n",
    "        elif subset == \"training\":\n",
    "            excludes = load_list(\"validation_list.txt\") + load_list(\"testing_list.txt\")\n",
    "            excludes = set(excludes)\n",
    "            self._walker = [w for w in self._walker if w not in excludes]\n",
    "\n",
    "print(\"loading training data...\")\n",
    "train_set = SubsetSC(\"training\")\n",
    "print(\"loading testing data...\")\n",
    "test_set = SubsetSC(\"testing\")\n",
    "print(\"loading validation data...\")\n",
    "val_set = SubsetSC(\"validation\")\n",
    "\n",
    "labels = sorted(list(set(datapoint[2] for datapoint in train_set)))\n",
    "labels.append(\"unknown\")\n",
    "labels.extend(\"silence\")"
   ]
  },
  {
   "attachments": {},
   "cell_type": "markdown",
   "metadata": {},
   "source": [
    "In order to streamline the program, helper functions were created"
   ]
  },
  {
   "cell_type": "code",
   "execution_count": 6,
   "metadata": {},
   "outputs": [],
   "source": [
    "def classify_audio(filepath):\n",
    "    \"\"\"\n",
    "    classify an audio recording from the keyword dataset\n",
    "    \n",
    "    inputs:\n",
    "        filepath(string): file path to the audio file\n",
    "        \n",
    "    returns:\n",
    "        label(string): classified label for the audio file\n",
    "        prob(float): probability for generated label\n",
    "    \"\"\"\n",
    "    text_list=labels\n",
    "    audio_paths=[filepath]\n",
    "\n",
    "    # Load data\n",
    "    inputs = {\n",
    "        ModalityType.TEXT: data.load_and_transform_text(text_list, device),\n",
    "        ModalityType.AUDIO: data.load_and_transform_audio_data(audio_paths, device),\n",
    "    }\n",
    "\n",
    "    with torch.no_grad():\n",
    "        embeddings = model(inputs)\n",
    "\n",
    "    probs = torch.softmax(embeddings[ModalityType.AUDIO] @ embeddings[ModalityType.TEXT].T, dim=-1)\n",
    "    index = np.argmax(probs.cpu().numpy())\n",
    "    prob = np.max(probs.cpu().numpy())\n",
    "    label = labels[index]\n",
    "    return label, prob\n",
    "\n",
    "def classify_only_audio(filepath):\n",
    "    \"\"\"\n",
    "    classify an audio recording from the keyword dataset\n",
    "    \n",
    "    inputs:\n",
    "        filepath(string): file path to the audio file\n",
    "        \n",
    "    returns:\n",
    "        label(string): classified label for the audio file\n",
    "        prob(float): probability for generated label\n",
    "    \"\"\"\n",
    "    text_list=labels\n",
    "    audio_paths=[filepath]\n",
    "\n",
    "    # Load data\n",
    "    inputs = {\n",
    "        ModalityType.TEXT: data.load_and_transform_text(text_list, device),\n",
    "        ModalityType.AUDIO: data.load_and_transform_audio_data(audio_paths, device),\n",
    "    }\n",
    "\n",
    "    with torch.no_grad():\n",
    "        embeddings = model(inputs)\n",
    "\n",
    "    probs = torch.softmax(embeddings[ModalityType.AUDIO] @ embeddings[ModalityType.TEXT].T, dim=-1)\n",
    "    index = np.argmax(probs.cpu().numpy())\n",
    "    label = labels[index]\n",
    "    return label\n",
    "\n",
    "def float_to_percent(value):\n",
    "    percent = value * 100\n",
    "    percent_with_two_decimals = \"{:.2f}%\".format(percent)\n",
    "    return percent_with_two_decimals\n",
    "\n",
    "def calculate_accuracy(list_a, list_b):\n",
    "    if len(list_a) != len(list_b):\n",
    "        raise ValueError(\"Lists must have the same length.\")\n",
    "\n",
    "    total_elements = len(list_a)\n",
    "    score = 0\n",
    "    for i in range(total_elements):\n",
    "        if list_a[i] == list_b[i]:\n",
    "                score+=1\n",
    "    accuracy = score/total_elements\n",
    "    return accuracy\n",
    "\n",
    "def evaluate_audio(filepaths, ground_truth_labels):\n",
    "    \"\"\"\n",
    "    classify an audio recording from the keyword dataset\n",
    "    \n",
    "    inputs:\n",
    "        filepath(string[]): file paths to the audio file\n",
    "        \n",
    "    returns:\n",
    "        labels(string[]): classified label for the audio file\n",
    "        probs(float[]): probabilities for each generated label\n",
    "    \"\"\"\n",
    "    text_list=labels\n",
    "    audio_paths=filepaths\n",
    "\n",
    "    # Load data\n",
    "    inputs = {\n",
    "        ModalityType.TEXT: data.load_and_transform_text(text_list, device),\n",
    "        ModalityType.AUDIO: data.load_and_transform_audio_data(audio_paths, device),\n",
    "    }\n",
    "\n",
    "    with torch.no_grad():\n",
    "        embeddings = model(inputs)\n",
    "\n",
    "    label_probs = torch.softmax(embeddings[ModalityType.AUDIO] @ embeddings[ModalityType.TEXT].T, dim=-1)\n",
    "    generated_labels = []\n",
    "    generated_probs = []\n",
    "    for prob in label_probs:\n",
    "        index = np.argmax(prob.cpu().numpy())\n",
    "        prob = np.max(prob.cpu().numpy())\n",
    "        label = labels[index]\n",
    "        generated_labels.append(label)\n",
    "        generated_probs.append(prob)\n",
    "    accuracy = calculate_accuracy(ground_truth_labels, generated_labels)\n",
    "    accuracy = float_to_percent(accuracy)\n",
    "    return accuracy"
   ]
  },
  {
   "cell_type": "code",
   "execution_count": 7,
   "metadata": {},
   "outputs": [
    {
     "name": "stdout",
     "output_type": "stream",
     "text": [
      "ground truth label: one\n",
      "generated label: up confidence: 86.94%\n",
      "wrong prediction!\n"
     ]
    },
    {
     "data": {
      "text/html": [
       "\n",
       "                <audio  controls=\"controls\" >\n",
       "                    <source src=\"data:audio/wav;base64,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\" type=\"audio/wav\" />\n",
       "                    Your browser does not support the audio element.\n",
       "                </audio>\n",
       "              "
      ],
      "text/plain": [
       "<IPython.lib.display.Audio object>"
      ]
     },
     "execution_count": 7,
     "metadata": {},
     "output_type": "execute_result"
    }
   ],
   "source": [
    "# get one random sample in the validation set and classify it\n",
    "sample = random.choice(test_set)\n",
    "waveform, sample_rate, label, speaker_id, utterance_number = sample\n",
    "print(\"ground truth label:\", label)\n",
    "sample_path = f\"data/SpeechCommands/speech_commands_v0.02/{label}/{speaker_id}_nohash_{utterance_number}.wav\"\n",
    "\n",
    "generated_label, prob = classify_audio(sample_path)\n",
    "print(\"generated label:\", generated_label, \"confidence:\", float_to_percent(prob))\n",
    "\n",
    "if (label == generated_label):\n",
    "    print(\"accurate prediction!\")\n",
    "else:\n",
    "    print(\"wrong prediction!\")\n",
    "    \n",
    "# display audio player\n",
    "ipd.Audio(waveform.numpy(), rate=sample_rate)"
   ]
  },
  {
   "attachments": {},
   "cell_type": "markdown",
   "metadata": {},
   "source": [
    "# Evaluation of ImageBind (pretrained) Zero-Shot Performance\n",
    "\n",
    "Loading a number of random samples from the validation dataset and evaluating the generated label from the ground truth labels gives an idea as to how performant ImageBind is\n",
    "\n",
    "*it might also be recommended to test ImageBind in the training and test dataset as well, but it is not expecte to show different results as can be explained below*\n",
    "\n",
    "### Number of Samples\n",
    "- a higher count will utilize a greater sample size, improving the statistical performance of the evaluation\n",
    "- However, a greater number of samples will use more VRAM which can be a bottleneck. In my testing, evaluating 500 samples already uses 21 GB (Nvidia L4). This evaluation roughly takes 12s\n",
    "\n",
    "## Lackluster Performance\n",
    "- in the sample below, an accuracy of only 3.8% is achieved. This poor performance is reflected in many runs (roughly 2%-4%), which leads to the impression that ImageBind is not a good zero-shot speech classification model, at least in the KWS Google Speech Commands 35-word dataset. Why is this?\n",
    "\n",
    "### ImageBind wasn't specifically designed for KWS\n",
    "ImageBind, as the creators have noted, envisions to create multimodal AI systems. This entails emergent zero-shot recognition tasks across modalities — even better than prior specialist models trained specifically for those modalities. Thus, it is not unreasonable to observe that ImageBind will not perform well at a highly specialized task\n",
    "\n",
    "### Use of pretrained model\n",
    "- Since this program is using a pretrained model for a multi-modal system that incorporates text, image, video, audio, depth, thermal, and IMU, on a training dataset that is not publicized, it's poor performance compared to SOTA modals that were trained on the actual Google Speech Commands v2 training data.\n",
    "\n",
    "### Audio Sample Length\n",
    "- It is also important to note that the audio sample lengths (usually 1-2 seconds) is considered short compared to the demos and audio lengths that ImageBind showcases in their blog. This indicates that rather short audio lengths is not what ImageBind is trained on. This can be seen in the error logs of ImageBind as well, which indicates to the user the following:\n",
    "\n",
    "```\n",
    "WARNING:root:Large gap between audio n_frames(48) and target_length (204). Is the audio_target_length setting correct\n",
    "```"
   ]
  },
  {
   "cell_type": "code",
   "execution_count": 8,
   "metadata": {},
   "outputs": [
    {
     "name": "stdout",
     "output_type": "stream",
     "text": [
      "evaluating 500 random samples...\n"
     ]
    },
    {
     "name": "stdout",
     "output_type": "stream",
     "text": [
      "ImageBind Zero-Shot Performance:\n",
      "3.80% with 500 samples\n"
     ]
    }
   ],
   "source": [
    "# get n random samples to evaluate imagebind performance\n",
    "count = 500 \n",
    "print(f\"evaluating {count} random samples...\")\n",
    "samples = random.choices(test_set, k=count)\n",
    "sample_paths = []\n",
    "ground_truth_labels = []\n",
    "for sample in samples:\n",
    "    waveform, sample_rate, label, speaker_id, utterance_number = sample\n",
    "    sample_path = f\"data/SpeechCommands/speech_commands_v0.02/{label}/{speaker_id}_nohash_{utterance_number}.wav\"\n",
    "    sample_paths.append(sample_path)\n",
    "    ground_truth_labels.append(label)\n",
    "\n",
    "accuracy = evaluate_audio(sample_paths, ground_truth_labels)\n",
    "print(f\"ImageBind Zero-Shot Performance:\\n{accuracy} with {count} samples\")\n"
   ]
  },
  {
   "attachments": {},
   "cell_type": "markdown",
   "metadata": {},
   "source": [
    "# Gradio\n",
    "\n",
    "I used gradio to quickly create an easy-to-use UI for the app with a microphone as input and the generated label as output. This is good because it utilizes the `classify` function from earlier. Additionally, setting `share=True` allows easy sharing of the app through the Internet.\n",
    "\n"
   ]
  },
  {
   "cell_type": "code",
   "execution_count": 9,
   "metadata": {},
   "outputs": [
    {
     "name": "stdout",
     "output_type": "stream",
     "text": [
      "Running on local URL:  http://127.0.0.1:7860\n",
      "Running on public URL: https://2f19b0868dffdd60f1.gradio.live\n",
      "\n",
      "This share link expires in 72 hours. For free permanent hosting and GPU upgrades, run `gradio deploy` from Terminal to deploy to Spaces (https://huggingface.co/spaces)\n"
     ]
    },
    {
     "data": {
      "text/html": [
       "<div><iframe src=\"https://2f19b0868dffdd60f1.gradio.live\" width=\"100%\" height=\"500\" allow=\"autoplay; camera; microphone; clipboard-read; clipboard-write;\" frameborder=\"0\" allowfullscreen></iframe></div>"
      ],
      "text/plain": [
       "<IPython.core.display.HTML object>"
      ]
     },
     "metadata": {},
     "output_type": "display_data"
    },
    {
     "data": {
      "text/plain": []
     },
     "execution_count": 9,
     "metadata": {},
     "output_type": "execute_result"
    }
   ],
   "source": [
    "import gradio as gr\n",
    "\n",
    "demo = gr.Interface(\n",
    "    fn=classify_only_audio,     \n",
    "    inputs=gr.Audio(source=\"microphone\", type=\"filepath\"), \n",
    "    outputs=\"text\").launch(share=True)\n",
    "\n",
    "demo"
   ]
  },
  {
   "attachments": {},
   "cell_type": "markdown",
   "metadata": {},
   "source": [
    "# IPyWebRTC as Audio Recorder\n",
    "\n",
    "Utilize ipywebrtc with ipywidgets in order to record audio from user's microphone and classify audio file using KWS label dataset\n",
    "\n",
    "*Note: might experience problems running in SSH environments*"
   ]
  },
  {
   "cell_type": "code",
   "execution_count": 10,
   "metadata": {},
   "outputs": [
    {
     "data": {
      "application/vnd.jupyter.widget-view+json": {
       "model_id": "4bf9f9001f1d4b4f98b94d289c003a89",
       "version_major": 2,
       "version_minor": 0
      },
      "text/plain": [
       "AudioRecorder(audio=Audio(value=b'', format='wav'), filename='input', format='wav', stream=CameraStream(constr…"
      ]
     },
     "execution_count": 10,
     "metadata": {},
     "output_type": "execute_result"
    }
   ],
   "source": [
    "from ipywebrtc import AudioRecorder, CameraStream\n",
    "\n",
    "camera = CameraStream(constraints={'audio': True,'video':False})\n",
    "recorder = AudioRecorder(stream=camera, filename=\"input\", format=\"wav\")\n",
    "\n",
    "recorder"
   ]
  },
  {
   "cell_type": "code",
   "execution_count": 11,
   "metadata": {},
   "outputs": [
    {
     "ename": "ValueError",
     "evalue": "No data, did you record anything?",
     "output_type": "error",
     "traceback": [
      "\u001b[0;31m---------------------------------------------------------------------------\u001b[0m",
      "\u001b[0;31mValueError\u001b[0m                                Traceback (most recent call last)",
      "Cell \u001b[0;32mIn[11], line 1\u001b[0m\n\u001b[0;32m----> 1\u001b[0m recorder\u001b[39m.\u001b[39;49msave(\u001b[39m\"\u001b[39;49m\u001b[39minput.wav\u001b[39;49m\u001b[39m\"\u001b[39;49m)\n\u001b[1;32m      2\u001b[0m generated_label, prob \u001b[39m=\u001b[39m classify_audio(\u001b[39m\"\u001b[39m\u001b[39minput.wav\u001b[39m\u001b[39m\"\u001b[39m)\n\u001b[1;32m      4\u001b[0m \u001b[39mprint\u001b[39m(\u001b[39m\"\u001b[39m\u001b[39mgenerated label:\u001b[39m\u001b[39m\"\u001b[39m, generated_label, \u001b[39m\"\u001b[39m\u001b[39mconfidence:\u001b[39m\u001b[39m\"\u001b[39m, float_to_percent(prob))\n",
      "File \u001b[0;32m~/miniconda3/envs/kws/lib/python3.11/site-packages/ipywebrtc/webrtc.py:511\u001b[0m, in \u001b[0;36mAudioRecorder.save\u001b[0;34m(self, filename)\u001b[0m\n\u001b[1;32m    509\u001b[0m     filename \u001b[39m+\u001b[39m\u001b[39m=\u001b[39m \u001b[39m'\u001b[39m\u001b[39m.\u001b[39m\u001b[39m'\u001b[39m \u001b[39m+\u001b[39m \u001b[39mself\u001b[39m\u001b[39m.\u001b[39mformat\n\u001b[1;32m    510\u001b[0m \u001b[39mif\u001b[39;00m \u001b[39mlen\u001b[39m(\u001b[39mself\u001b[39m\u001b[39m.\u001b[39maudio\u001b[39m.\u001b[39mvalue) \u001b[39m==\u001b[39m \u001b[39m0\u001b[39m:\n\u001b[0;32m--> 511\u001b[0m     \u001b[39mraise\u001b[39;00m \u001b[39mValueError\u001b[39;00m(\u001b[39m'\u001b[39m\u001b[39mNo data, did you record anything?\u001b[39m\u001b[39m'\u001b[39m)\n\u001b[1;32m    512\u001b[0m \u001b[39mwith\u001b[39;00m \u001b[39mopen\u001b[39m(filename, \u001b[39m'\u001b[39m\u001b[39mwb\u001b[39m\u001b[39m'\u001b[39m) \u001b[39mas\u001b[39;00m f:\n\u001b[1;32m    513\u001b[0m     f\u001b[39m.\u001b[39mwrite(\u001b[39mself\u001b[39m\u001b[39m.\u001b[39maudio\u001b[39m.\u001b[39mvalue)\n",
      "\u001b[0;31mValueError\u001b[0m: No data, did you record anything?"
     ]
    },
    {
     "name": "stderr",
     "output_type": "stream",
     "text": [
      "/home/red/miniconda3/envs/kws/lib/python3.11/site-packages/gradio/processing_utils.py:176: UserWarning: Trying to convert audio automatically from int32 to 16-bit int format.\n",
      "  warnings.warn(warning.format(data.dtype))\n"
     ]
    }
   ],
   "source": [
    "\n",
    "recorder.save(\"input.wav\")\n",
    "generated_label, prob = classify_audio(\"input.wav\")\n",
    "\n",
    "print(\"generated label:\", generated_label, \"confidence:\", float_to_percent(prob))\n"
   ]
  }
 ],
 "metadata": {
  "kernelspec": {
   "display_name": "kws",
   "language": "python",
   "name": "python3"
  },
  "language_info": {
   "codemirror_mode": {
    "name": "ipython",
    "version": 3
   },
   "file_extension": ".py",
   "mimetype": "text/x-python",
   "name": "python",
   "nbconvert_exporter": "python",
   "pygments_lexer": "ipython3",
   "version": "3.11.4"
  },
  "orig_nbformat": 4
 },
 "nbformat": 4,
 "nbformat_minor": 2
}
