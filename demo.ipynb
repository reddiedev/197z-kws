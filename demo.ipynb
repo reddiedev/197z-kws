{
 "cells": [
  {
   "cell_type": "code",
   "execution_count": 1,
   "metadata": {},
   "outputs": [],
   "source": [
    "import torch\n",
    "import torchaudio\n",
    "import sys\n",
    "import os\n",
    "import random\n",
    "import IPython.display as ipd\n",
    "import numpy as np"
   ]
  },
  {
   "cell_type": "code",
   "execution_count": 2,
   "metadata": {},
   "outputs": [
    {
     "name": "stdout",
     "output_type": "stream",
     "text": [
      "[setup]: determining CUDA support...\n",
      "PyTorch version: 2.0.1+cu118\n",
      "Torchaudio version: 2.0.2+cu118\n",
      "CUDA is available: True\n"
     ]
    }
   ],
   "source": [
    "device = torch.device(\"cuda\" if torch.cuda.is_available() else \"cpu\")\n",
    "print(\"[setup]: determining CUDA support...\")\n",
    "print(\"PyTorch version:\", torch.__version__)\n",
    "print(\"Torchaudio version:\", torchaudio.__version__)\n",
    "print(\"CUDA is available:\", torch.cuda.is_available())\n"
   ]
  },
  {
   "cell_type": "code",
   "execution_count": 3,
   "metadata": {},
   "outputs": [
    {
     "name": "stdout",
     "output_type": "stream",
     "text": [
      "Collecting pytorchvideo@ git+https://github.com/facebookresearch/pytorchvideo.git@28fe037d212663c6a24f373b94cc5d478c8c1a1d\n",
      "  Using cached pytorchvideo-0.1.5-py3-none-any.whl\n",
      "Requirement already satisfied: fvcore in /home/red/miniconda3/envs/kws/lib/python3.11/site-packages (from pytorchvideo@ git+https://github.com/facebookresearch/pytorchvideo.git@28fe037d212663c6a24f373b94cc5d478c8c1a1d) (0.1.5.post20221221)\n",
      "Requirement already satisfied: av in /home/red/miniconda3/envs/kws/lib/python3.11/site-packages (from pytorchvideo@ git+https://github.com/facebookresearch/pytorchvideo.git@28fe037d212663c6a24f373b94cc5d478c8c1a1d) (10.0.0)\n",
      "Requirement already satisfied: parameterized in /home/red/miniconda3/envs/kws/lib/python3.11/site-packages (from pytorchvideo@ git+https://github.com/facebookresearch/pytorchvideo.git@28fe037d212663c6a24f373b94cc5d478c8c1a1d) (0.9.0)\n",
      "Requirement already satisfied: iopath in /home/red/miniconda3/envs/kws/lib/python3.11/site-packages (from pytorchvideo@ git+https://github.com/facebookresearch/pytorchvideo.git@28fe037d212663c6a24f373b94cc5d478c8c1a1d) (0.1.10)\n",
      "Requirement already satisfied: networkx in /home/red/miniconda3/envs/kws/lib/python3.11/site-packages (from pytorchvideo@ git+https://github.com/facebookresearch/pytorchvideo.git@28fe037d212663c6a24f373b94cc5d478c8c1a1d) (3.0)\n",
      "Requirement already satisfied: numpy in /home/red/miniconda3/envs/kws/lib/python3.11/site-packages (from fvcore->pytorchvideo@ git+https://github.com/facebookresearch/pytorchvideo.git@28fe037d212663c6a24f373b94cc5d478c8c1a1d) (1.24.1)\n",
      "Requirement already satisfied: yacs>=0.1.6 in /home/red/miniconda3/envs/kws/lib/python3.11/site-packages (from fvcore->pytorchvideo@ git+https://github.com/facebookresearch/pytorchvideo.git@28fe037d212663c6a24f373b94cc5d478c8c1a1d) (0.1.8)\n",
      "Requirement already satisfied: pyyaml>=5.1 in /home/red/miniconda3/envs/kws/lib/python3.11/site-packages (from fvcore->pytorchvideo@ git+https://github.com/facebookresearch/pytorchvideo.git@28fe037d212663c6a24f373b94cc5d478c8c1a1d) (6.0)\n",
      "Requirement already satisfied: tqdm in /home/red/miniconda3/envs/kws/lib/python3.11/site-packages (from fvcore->pytorchvideo@ git+https://github.com/facebookresearch/pytorchvideo.git@28fe037d212663c6a24f373b94cc5d478c8c1a1d) (4.65.0)\n",
      "Requirement already satisfied: termcolor>=1.1 in /home/red/miniconda3/envs/kws/lib/python3.11/site-packages (from fvcore->pytorchvideo@ git+https://github.com/facebookresearch/pytorchvideo.git@28fe037d212663c6a24f373b94cc5d478c8c1a1d) (2.3.0)\n",
      "Requirement already satisfied: Pillow in /home/red/miniconda3/envs/kws/lib/python3.11/site-packages (from fvcore->pytorchvideo@ git+https://github.com/facebookresearch/pytorchvideo.git@28fe037d212663c6a24f373b94cc5d478c8c1a1d) (9.3.0)\n",
      "Requirement already satisfied: tabulate in /home/red/miniconda3/envs/kws/lib/python3.11/site-packages (from fvcore->pytorchvideo@ git+https://github.com/facebookresearch/pytorchvideo.git@28fe037d212663c6a24f373b94cc5d478c8c1a1d) (0.9.0)\n",
      "Requirement already satisfied: typing-extensions in /home/red/miniconda3/envs/kws/lib/python3.11/site-packages (from iopath->pytorchvideo@ git+https://github.com/facebookresearch/pytorchvideo.git@28fe037d212663c6a24f373b94cc5d478c8c1a1d) (4.6.3)\n",
      "Requirement already satisfied: portalocker in /home/red/miniconda3/envs/kws/lib/python3.11/site-packages (from iopath->pytorchvideo@ git+https://github.com/facebookresearch/pytorchvideo.git@28fe037d212663c6a24f373b94cc5d478c8c1a1d) (2.7.0)\n",
      "Requirement already satisfied: timm in /home/red/miniconda3/envs/kws/lib/python3.11/site-packages (0.9.2)\n",
      "Requirement already satisfied: torch>=1.7 in /home/red/miniconda3/envs/kws/lib/python3.11/site-packages (from timm) (2.0.1+cu118)\n",
      "Requirement already satisfied: torchvision in /home/red/miniconda3/envs/kws/lib/python3.11/site-packages (from timm) (0.15.2+cu118)\n",
      "Requirement already satisfied: pyyaml in /home/red/miniconda3/envs/kws/lib/python3.11/site-packages (from timm) (6.0)\n",
      "Requirement already satisfied: huggingface-hub in /home/red/miniconda3/envs/kws/lib/python3.11/site-packages (from timm) (0.15.1)\n",
      "Requirement already satisfied: safetensors in /home/red/miniconda3/envs/kws/lib/python3.11/site-packages (from timm) (0.3.1)\n",
      "Requirement already satisfied: filelock in /home/red/miniconda3/envs/kws/lib/python3.11/site-packages (from torch>=1.7->timm) (3.9.0)\n",
      "Requirement already satisfied: typing-extensions in /home/red/miniconda3/envs/kws/lib/python3.11/site-packages (from torch>=1.7->timm) (4.6.3)\n",
      "Requirement already satisfied: sympy in /home/red/miniconda3/envs/kws/lib/python3.11/site-packages (from torch>=1.7->timm) (1.11.1)\n",
      "Requirement already satisfied: networkx in /home/red/miniconda3/envs/kws/lib/python3.11/site-packages (from torch>=1.7->timm) (3.0)\n",
      "Requirement already satisfied: jinja2 in /home/red/miniconda3/envs/kws/lib/python3.11/site-packages (from torch>=1.7->timm) (3.1.2)\n",
      "Requirement already satisfied: triton==2.0.0 in /home/red/miniconda3/envs/kws/lib/python3.11/site-packages (from torch>=1.7->timm) (2.0.0)\n",
      "Requirement already satisfied: cmake in /home/red/miniconda3/envs/kws/lib/python3.11/site-packages (from triton==2.0.0->torch>=1.7->timm) (3.25.0)\n",
      "Requirement already satisfied: lit in /home/red/miniconda3/envs/kws/lib/python3.11/site-packages (from triton==2.0.0->torch>=1.7->timm) (15.0.7)\n",
      "Requirement already satisfied: fsspec in /home/red/miniconda3/envs/kws/lib/python3.11/site-packages (from huggingface-hub->timm) (2023.6.0)\n",
      "Requirement already satisfied: requests in /home/red/miniconda3/envs/kws/lib/python3.11/site-packages (from huggingface-hub->timm) (2.28.1)\n",
      "Requirement already satisfied: tqdm>=4.42.1 in /home/red/miniconda3/envs/kws/lib/python3.11/site-packages (from huggingface-hub->timm) (4.65.0)\n",
      "Requirement already satisfied: packaging>=20.9 in /home/red/miniconda3/envs/kws/lib/python3.11/site-packages (from huggingface-hub->timm) (23.1)\n",
      "Requirement already satisfied: numpy in /home/red/miniconda3/envs/kws/lib/python3.11/site-packages (from torchvision->timm) (1.24.1)\n",
      "Requirement already satisfied: pillow!=8.3.*,>=5.3.0 in /home/red/miniconda3/envs/kws/lib/python3.11/site-packages (from torchvision->timm) (9.3.0)\n",
      "Requirement already satisfied: MarkupSafe>=2.0 in /home/red/miniconda3/envs/kws/lib/python3.11/site-packages (from jinja2->torch>=1.7->timm) (2.1.2)\n",
      "Requirement already satisfied: charset-normalizer<3,>=2 in /home/red/miniconda3/envs/kws/lib/python3.11/site-packages (from requests->huggingface-hub->timm) (2.1.1)\n",
      "Requirement already satisfied: idna<4,>=2.5 in /home/red/miniconda3/envs/kws/lib/python3.11/site-packages (from requests->huggingface-hub->timm) (3.4)\n",
      "Requirement already satisfied: urllib3<1.27,>=1.21.1 in /home/red/miniconda3/envs/kws/lib/python3.11/site-packages (from requests->huggingface-hub->timm) (1.26.13)\n",
      "Requirement already satisfied: certifi>=2017.4.17 in /home/red/miniconda3/envs/kws/lib/python3.11/site-packages (from requests->huggingface-hub->timm) (2022.12.7)\n",
      "Requirement already satisfied: mpmath>=0.19 in /home/red/miniconda3/envs/kws/lib/python3.11/site-packages (from sympy->torch>=1.7->timm) (1.2.1)\n",
      "Requirement already satisfied: ftfy in /home/red/miniconda3/envs/kws/lib/python3.11/site-packages (6.1.1)\n",
      "Requirement already satisfied: wcwidth>=0.2.5 in /home/red/miniconda3/envs/kws/lib/python3.11/site-packages (from ftfy) (0.2.6)\n",
      "Requirement already satisfied: regex in /home/red/miniconda3/envs/kws/lib/python3.11/site-packages (2023.6.3)\n",
      "Requirement already satisfied: einops in /home/red/miniconda3/envs/kws/lib/python3.11/site-packages (0.6.1)\n",
      "Requirement already satisfied: fvcore in /home/red/miniconda3/envs/kws/lib/python3.11/site-packages (0.1.5.post20221221)\n",
      "Requirement already satisfied: numpy in /home/red/miniconda3/envs/kws/lib/python3.11/site-packages (from fvcore) (1.24.1)\n",
      "Requirement already satisfied: yacs>=0.1.6 in /home/red/miniconda3/envs/kws/lib/python3.11/site-packages (from fvcore) (0.1.8)\n",
      "Requirement already satisfied: pyyaml>=5.1 in /home/red/miniconda3/envs/kws/lib/python3.11/site-packages (from fvcore) (6.0)\n",
      "Requirement already satisfied: tqdm in /home/red/miniconda3/envs/kws/lib/python3.11/site-packages (from fvcore) (4.65.0)\n",
      "Requirement already satisfied: termcolor>=1.1 in /home/red/miniconda3/envs/kws/lib/python3.11/site-packages (from fvcore) (2.3.0)\n",
      "Requirement already satisfied: Pillow in /home/red/miniconda3/envs/kws/lib/python3.11/site-packages (from fvcore) (9.3.0)\n",
      "Requirement already satisfied: tabulate in /home/red/miniconda3/envs/kws/lib/python3.11/site-packages (from fvcore) (0.9.0)\n",
      "Requirement already satisfied: iopath>=0.1.7 in /home/red/miniconda3/envs/kws/lib/python3.11/site-packages (from fvcore) (0.1.10)\n",
      "Requirement already satisfied: typing-extensions in /home/red/miniconda3/envs/kws/lib/python3.11/site-packages (from iopath>=0.1.7->fvcore) (4.6.3)\n",
      "Requirement already satisfied: portalocker in /home/red/miniconda3/envs/kws/lib/python3.11/site-packages (from iopath>=0.1.7->fvcore) (2.7.0)\n",
      "Requirement already satisfied: decord in /home/red/miniconda3/envs/kws/lib/python3.11/site-packages (0.6.0)\n",
      "Requirement already satisfied: numpy>=1.14.0 in /home/red/miniconda3/envs/kws/lib/python3.11/site-packages (from decord) (1.24.1)\n"
     ]
    },
    {
     "name": "stderr",
     "output_type": "stream",
     "text": [
      "/home/red/miniconda3/envs/kws/lib/python3.11/site-packages/torchvision/transforms/functional_tensor.py:5: UserWarning: The torchvision.transforms.functional_tensor module is deprecated in 0.15 and will be **removed in 0.17**. Please don't rely on it. You probably just need to use APIs in torchvision.transforms.functional or in torchvision.transforms.v2.functional.\n",
      "  warnings.warn(\n",
      "/home/red/miniconda3/envs/kws/lib/python3.11/site-packages/torchvision/transforms/_functional_video.py:6: UserWarning: The 'torchvision.transforms._functional_video' module is deprecated since 0.12 and will be removed in the future. Please use the 'torchvision.transforms.functional' module instead.\n",
      "  warnings.warn(\n",
      "/home/red/miniconda3/envs/kws/lib/python3.11/site-packages/torchvision/transforms/_transforms_video.py:22: UserWarning: The 'torchvision.transforms._transforms_video' module is deprecated since 0.12 and will be removed in the future. Please use the 'torchvision.transforms' module instead.\n",
      "  warnings.warn(\n"
     ]
    }
   ],
   "source": [
    "libs = [\n",
    "    \"pytorchvideo@git+https://github.com/facebookresearch/pytorchvideo.git@28fe037d212663c6a24f373b94cc5d478c8c1a1d\",\n",
    "    \"timm\",\n",
    "    \"ftfy\",\n",
    "    \"regex\",\n",
    "    \"einops\",\n",
    "    \"fvcore\",\n",
    "    \"decord\"\n",
    "]\n",
    "\n",
    "for lib in libs:\n",
    "    command = f\"pip install {lib}\"\n",
    "    os.system(command)\n",
    "\n",
    "model_path = \"./models/imagebind_huge.pth\"\n",
    "if (not os.path.exists(model_path)):\n",
    "    os.system(\"wget -nc -P models https://dl.fbaipublicfiles.com/imagebind/imagebind_huge.pth\")\n",
    "\n",
    "imagebindmodels_path = os.path.abspath('./models')\n",
    "if imagebindmodels_path not in sys.path:\n",
    "    sys.path.append(imagebindmodels_path)\n",
    "imagebindbpe_path = os.path.abspath('./bpe')\n",
    "if imagebindbpe_path not in sys.path:\n",
    "    sys.path.append(imagebindbpe_path)\n",
    "\n",
    "import data\n",
    "from models import imagebind_model\n",
    "from models.imagebind_model import ModalityType"
   ]
  },
  {
   "cell_type": "code",
   "execution_count": 4,
   "metadata": {},
   "outputs": [],
   "source": [
    "device = \"cuda:0\" if torch.cuda.is_available() else \"cpu\"\n",
    "\n",
    "# Instantiate ImageBind model\n",
    "model = imagebind_model.imagebind_huge(pretrained=True)\n",
    "model.eval()\n",
    "model = model.to(device)"
   ]
  },
  {
   "cell_type": "code",
   "execution_count": 5,
   "metadata": {},
   "outputs": [
    {
     "name": "stdout",
     "output_type": "stream",
     "text": [
      "loading training data...\n",
      "loading testing data...\n",
      "loading validation data...\n"
     ]
    }
   ],
   "source": [
    "from torchaudio.datasets import SPEECHCOMMANDS\n",
    "import os\n",
    "\n",
    "class SubsetSC(SPEECHCOMMANDS):\n",
    "    def __init__(self, subset: str = None):\n",
    "        super().__init__(\"./data\", download=True)\n",
    "\n",
    "        def load_list(filename):\n",
    "            filepath = os.path.join(self._path, filename)\n",
    "            with open(filepath) as fileobj:\n",
    "                return [os.path.normpath(os.path.join(self._path, line.strip())) for line in fileobj]\n",
    "\n",
    "        if subset == \"validation\":\n",
    "            self._walker = load_list(\"validation_list.txt\")\n",
    "        elif subset == \"testing\":\n",
    "            self._walker = load_list(\"testing_list.txt\")\n",
    "        elif subset == \"training\":\n",
    "            excludes = load_list(\"validation_list.txt\") + load_list(\"testing_list.txt\")\n",
    "            excludes = set(excludes)\n",
    "            self._walker = [w for w in self._walker if w not in excludes]\n",
    "\n",
    "print(\"loading training data...\")\n",
    "train_set = SubsetSC(\"training\")\n",
    "print(\"loading testing data...\")\n",
    "test_set = SubsetSC(\"testing\")\n",
    "print(\"loading validation data...\")\n",
    "val_set = SubsetSC(\"validation\")\n",
    "\n",
    "labels = sorted(list(set(datapoint[2] for datapoint in train_set)))\n",
    "labels.append(\"unknown\")\n",
    "labels.extend(\"silence\")"
   ]
  },
  {
   "attachments": {},
   "cell_type": "markdown",
   "metadata": {},
   "source": [
    "In order to streamline the program, helper functions were created"
   ]
  },
  {
   "cell_type": "code",
   "execution_count": 6,
   "metadata": {},
   "outputs": [],
   "source": [
    "def classify_audio(filepath):\n",
    "    \"\"\"\n",
    "    classify an audio recording from the keyword dataset\n",
    "    \n",
    "    inputs:\n",
    "        filepath(string): file path to the audio file\n",
    "        \n",
    "    returns:\n",
    "        label(string): classified label for the audio file\n",
    "        prob(float): probability for generated label\n",
    "    \"\"\"\n",
    "    text_list=labels\n",
    "    audio_paths=[filepath]\n",
    "\n",
    "    # Load data\n",
    "    inputs = {\n",
    "        ModalityType.TEXT: data.load_and_transform_text(text_list, device),\n",
    "        ModalityType.AUDIO: data.load_and_transform_audio_data(audio_paths, device),\n",
    "    }\n",
    "\n",
    "    with torch.no_grad():\n",
    "        embeddings = model(inputs)\n",
    "\n",
    "    probs = torch.softmax(embeddings[ModalityType.AUDIO] @ embeddings[ModalityType.TEXT].T, dim=-1)\n",
    "    index = np.argmax(probs.cpu().numpy())\n",
    "    prob = np.max(probs.cpu().numpy())\n",
    "    label = labels[index]\n",
    "    return label, prob\n",
    "\n",
    "def classify_only_audio(filepath):\n",
    "    \"\"\"\n",
    "    classify an audio recording from the keyword dataset\n",
    "    \n",
    "    inputs:\n",
    "        filepath(string): file path to the audio file\n",
    "        \n",
    "    returns:\n",
    "        label(string): classified label for the audio file\n",
    "        prob(float): probability for generated label\n",
    "    \"\"\"\n",
    "    text_list=labels\n",
    "    audio_paths=[filepath]\n",
    "\n",
    "    # Load data\n",
    "    inputs = {\n",
    "        ModalityType.TEXT: data.load_and_transform_text(text_list, device),\n",
    "        ModalityType.AUDIO: data.load_and_transform_audio_data(audio_paths, device),\n",
    "    }\n",
    "\n",
    "    with torch.no_grad():\n",
    "        embeddings = model(inputs)\n",
    "\n",
    "    probs = torch.softmax(embeddings[ModalityType.AUDIO] @ embeddings[ModalityType.TEXT].T, dim=-1)\n",
    "    index = np.argmax(probs.cpu().numpy())\n",
    "    label = labels[index]\n",
    "    return label\n",
    "\n",
    "def float_to_percent(value):\n",
    "    percent = value * 100\n",
    "    percent_with_two_decimals = \"{:.2f}%\".format(percent)\n",
    "    return percent_with_two_decimals\n",
    "\n",
    "def calculate_accuracy(list_a, list_b):\n",
    "    if len(list_a) != len(list_b):\n",
    "        raise ValueError(\"Lists must have the same length.\")\n",
    "\n",
    "    total_elements = len(list_a)\n",
    "    score = 0\n",
    "    for i in range(total_elements):\n",
    "        if list_a[i] == list_b[i]:\n",
    "                score+=1\n",
    "    accuracy = score/total_elements\n",
    "    return accuracy\n",
    "\n",
    "def evaluate_audio(filepaths, ground_truth_labels):\n",
    "    \"\"\"\n",
    "    classify an audio recording from the keyword dataset\n",
    "    \n",
    "    inputs:\n",
    "        filepath(string[]): file paths to the audio file\n",
    "        \n",
    "    returns:\n",
    "        labels(string[]): classified label for the audio file\n",
    "        probs(float[]): probabilities for each generated label\n",
    "    \"\"\"\n",
    "    text_list=labels\n",
    "    audio_paths=filepaths\n",
    "\n",
    "    # Load data\n",
    "    inputs = {\n",
    "        ModalityType.TEXT: data.load_and_transform_text(text_list, device),\n",
    "        ModalityType.AUDIO: data.load_and_transform_audio_data(audio_paths, device),\n",
    "    }\n",
    "\n",
    "    with torch.no_grad():\n",
    "        embeddings = model(inputs)\n",
    "\n",
    "    label_probs = torch.softmax(embeddings[ModalityType.AUDIO] @ embeddings[ModalityType.TEXT].T, dim=-1)\n",
    "    generated_labels = []\n",
    "    generated_probs = []\n",
    "    for prob in label_probs:\n",
    "        index = np.argmax(prob.cpu().numpy())\n",
    "        prob = np.max(prob.cpu().numpy())\n",
    "        label = labels[index]\n",
    "        generated_labels.append(label)\n",
    "        generated_probs.append(prob)\n",
    "    accuracy = calculate_accuracy(ground_truth_labels, generated_labels)\n",
    "    accuracy = float_to_percent(accuracy)\n",
    "    return accuracy"
   ]
  },
  {
   "cell_type": "code",
   "execution_count": 7,
   "metadata": {},
   "outputs": [
    {
     "name": "stdout",
     "output_type": "stream",
     "text": [
      "ground truth label: yes\n",
      "generated label: off confidence: 99.99%\n",
      "wrong prediction!\n"
     ]
    },
    {
     "data": {
      "text/html": [
       "\n",
       "                <audio  controls=\"controls\" >\n",
       "                    <source src=\"data:audio/wav;base64,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\" type=\"audio/wav\" />\n",
       "                    Your browser does not support the audio element.\n",
       "                </audio>\n",
       "              "
      ],
      "text/plain": [
       "<IPython.lib.display.Audio object>"
      ]
     },
     "execution_count": 7,
     "metadata": {},
     "output_type": "execute_result"
    }
   ],
   "source": [
    "# get one random sample in the validation set and classify it\n",
    "sample = random.choice(val_set)\n",
    "waveform, sample_rate, label, speaker_id, utterance_number = sample\n",
    "print(\"ground truth label:\", label)\n",
    "sample_path = f\"data/SpeechCommands/speech_commands_v0.02/{label}/{speaker_id}_nohash_{utterance_number}.wav\"\n",
    "\n",
    "generated_label, prob = classify_audio(sample_path)\n",
    "print(\"generated label:\", generated_label, \"confidence:\", float_to_percent(prob))\n",
    "\n",
    "if (label == generated_label):\n",
    "    print(\"accurate prediction!\")\n",
    "else:\n",
    "    print(\"wrong prediction!\")\n",
    "    \n",
    "# display audio player\n",
    "ipd.Audio(waveform.numpy(), rate=sample_rate)"
   ]
  },
  {
   "attachments": {},
   "cell_type": "markdown",
   "metadata": {},
   "source": [
    "# Evaluation of ImageBind (pretrained) Zero-Shot Performance\n",
    "\n",
    "Loading a number of random samples from the validation dataset and evaluating the generated label from the ground truth labels gives an idea as to how performant ImageBind is\n",
    "\n",
    "*it might also be recommended to test ImageBind in the training and test dataset as well, but it is not expecte to show different results as can be explained below*\n",
    "\n",
    "### Number of Samples\n",
    "- a higher count will utilize a greater sample size, improving the statistical performance of the evaluation\n",
    "- However, a greater number of samples will use more VRAM which can be a bottleneck. In my testing, evaluating 500 samples already uses 21 GB (Nvidia L4). This evaluation roughly takes 12s\n",
    "\n",
    "## Lackluster Performance\n",
    "- in the sample below, an accuracy of only 2.4% is achieved. This poor performance is reflected in many runs (roughly 2%-3%), which leads to the impression that ImageBind is not a good zero-shot speech classification model, at least in the KWS Google Speech Commands 35-word dataset. Why is this?\n",
    "\n",
    "### ImageBind wasn't specifically designed for KWS\n",
    "ImageBind, as the creators have noted, envisions to create multimodal AI systems. This entails emergent zero-shot recognition tasks across modalities — even better than prior specialist models trained specifically for those modalities. Thus, it is not unreasonable to observe that ImageBind will not perform well at a highly specialized task\n",
    "\n",
    "### Use of pretrained model\n",
    "- Since this program is using a pretrained model for a multi-modal system that incorporates text, image, video, audio, depth, thermal, and IMU, on a training dataset that is not publicized, it's poor performance compared to SOTA modals that were trained on the actual Google Speech Commands v2 training data.\n",
    "\n",
    "### Audio Sample Length\n",
    "- It is also important to note that the audio sample lengths (usually 1-2 seconds) is considered short compared to the demos and audio lengths that ImageBind showcases in their blog. This indicates that rather short audio lengths is not what ImageBind is trained on. This can be seen in the error logs of ImageBind as well, which indicates to the user the following:\n",
    "\n",
    "```\n",
    "WARNING:root:Large gap between audio n_frames(48) and target_length (204). Is the audio_target_length setting correct\n",
    "```"
   ]
  },
  {
   "cell_type": "code",
   "execution_count": 11,
   "metadata": {},
   "outputs": [
    {
     "name": "stdout",
     "output_type": "stream",
     "text": [
      "evaluating 500 random samples...\n",
      "ImageBind Zero-Shot Performance:\n",
      "2.20% with 500 samples\n"
     ]
    }
   ],
   "source": [
    "# get n random samples to evaluate imagebind performance\n",
    "count = 500 \n",
    "print(f\"evaluating {count} random samples...\")\n",
    "samples = random.choices(val_set, k=count)\n",
    "sample_paths = []\n",
    "ground_truth_labels = []\n",
    "for sample in samples:\n",
    "    waveform, sample_rate, label, speaker_id, utterance_number = sample\n",
    "    sample_path = f\"data/SpeechCommands/speech_commands_v0.02/{label}/{speaker_id}_nohash_{utterance_number}.wav\"\n",
    "    sample_paths.append(sample_path)\n",
    "    ground_truth_labels.append(label)\n",
    "\n",
    "accuracy = evaluate_audio(sample_paths, ground_truth_labels)\n",
    "print(f\"ImageBind Zero-Shot Performance:\\n{accuracy} with {count} samples\")\n"
   ]
  },
  {
   "attachments": {},
   "cell_type": "markdown",
   "metadata": {},
   "source": [
    "# Gradio\n",
    "\n",
    "I used gradio to quickly create an easy-to-use UI for the app with a microphone as input and the generated label as output. This is good because it utilizes the `classify` function from earlier. Additionally, setting `share=True` allows easy sharing of the app through the Internet.\n",
    "\n"
   ]
  },
  {
   "cell_type": "code",
   "execution_count": 25,
   "metadata": {},
   "outputs": [
    {
     "name": "stdout",
     "output_type": "stream",
     "text": [
      "Running on local URL:  http://127.0.0.1:7862\n",
      "Running on public URL: https://f36bb15be35a021d14.gradio.live\n",
      "\n",
      "This share link expires in 72 hours. For free permanent hosting and GPU upgrades, run `gradio deploy` from Terminal to deploy to Spaces (https://huggingface.co/spaces)\n"
     ]
    },
    {
     "data": {
      "text/html": [
       "<div><iframe src=\"https://f36bb15be35a021d14.gradio.live\" width=\"100%\" height=\"500\" allow=\"autoplay; camera; microphone; clipboard-read; clipboard-write;\" frameborder=\"0\" allowfullscreen></iframe></div>"
      ],
      "text/plain": [
       "<IPython.core.display.HTML object>"
      ]
     },
     "metadata": {},
     "output_type": "display_data"
    },
    {
     "data": {
      "text/plain": []
     },
     "execution_count": 25,
     "metadata": {},
     "output_type": "execute_result"
    }
   ],
   "source": [
    "import gradio as gr\n",
    "\n",
    "demo = gr.Interface(\n",
    "    fn=classify_only_audio,     \n",
    "    inputs=gr.Audio(source=\"microphone\", type=\"filepath\"), \n",
    "    outputs=\"text\").launch(share=True)\n",
    "\n",
    "demo"
   ]
  },
  {
   "attachments": {},
   "cell_type": "markdown",
   "metadata": {},
   "source": [
    "# IPyWebRTC as Audio Recorder\n",
    "\n",
    "Utilize ipywebrtc with ipywidgets in order to record audio from user's microphone and classify audio file using KWS label dataset\n",
    "\n",
    "*Note: might experience problems running in SSH environments*"
   ]
  },
  {
   "cell_type": "code",
   "execution_count": 26,
   "metadata": {},
   "outputs": [
    {
     "data": {
      "application/vnd.jupyter.widget-view+json": {
       "model_id": "02271f82bb044db78f4b0e634b8e552f",
       "version_major": 2,
       "version_minor": 0
      },
      "text/plain": [
       "AudioRecorder(audio=Audio(value=b'', format='wav'), filename='input', format='wav', stream=CameraStream(constr…"
      ]
     },
     "execution_count": 26,
     "metadata": {},
     "output_type": "execute_result"
    }
   ],
   "source": [
    "from ipywebrtc import AudioRecorder, CameraStream\n",
    "\n",
    "camera = CameraStream(constraints={'audio': True,'video':False})\n",
    "recorder = AudioRecorder(stream=camera, filename=\"input\", format=\"wav\")\n",
    "\n",
    "recorder"
   ]
  },
  {
   "cell_type": "code",
   "execution_count": 27,
   "metadata": {},
   "outputs": [
    {
     "ename": "ValueError",
     "evalue": "No data, did you record anything?",
     "output_type": "error",
     "traceback": [
      "\u001b[0;31m---------------------------------------------------------------------------\u001b[0m",
      "\u001b[0;31mValueError\u001b[0m                                Traceback (most recent call last)",
      "Cell \u001b[0;32mIn[27], line 1\u001b[0m\n\u001b[0;32m----> 1\u001b[0m recorder\u001b[39m.\u001b[39;49msave(\u001b[39m\"\u001b[39;49m\u001b[39minput.wav\u001b[39;49m\u001b[39m\"\u001b[39;49m)\n\u001b[1;32m      2\u001b[0m generated_label, prob \u001b[39m=\u001b[39m classify_audio(\u001b[39m\"\u001b[39m\u001b[39minput.wav\u001b[39m\u001b[39m\"\u001b[39m)\n\u001b[1;32m      4\u001b[0m \u001b[39mprint\u001b[39m(\u001b[39m\"\u001b[39m\u001b[39mgenerated label:\u001b[39m\u001b[39m\"\u001b[39m, generated_label, \u001b[39m\"\u001b[39m\u001b[39mconfidence:\u001b[39m\u001b[39m\"\u001b[39m, float_to_percent(prob))\n",
      "File \u001b[0;32m~/miniconda3/envs/kws/lib/python3.11/site-packages/ipywebrtc/webrtc.py:511\u001b[0m, in \u001b[0;36mAudioRecorder.save\u001b[0;34m(self, filename)\u001b[0m\n\u001b[1;32m    509\u001b[0m     filename \u001b[39m+\u001b[39m\u001b[39m=\u001b[39m \u001b[39m'\u001b[39m\u001b[39m.\u001b[39m\u001b[39m'\u001b[39m \u001b[39m+\u001b[39m \u001b[39mself\u001b[39m\u001b[39m.\u001b[39mformat\n\u001b[1;32m    510\u001b[0m \u001b[39mif\u001b[39;00m \u001b[39mlen\u001b[39m(\u001b[39mself\u001b[39m\u001b[39m.\u001b[39maudio\u001b[39m.\u001b[39mvalue) \u001b[39m==\u001b[39m \u001b[39m0\u001b[39m:\n\u001b[0;32m--> 511\u001b[0m     \u001b[39mraise\u001b[39;00m \u001b[39mValueError\u001b[39;00m(\u001b[39m'\u001b[39m\u001b[39mNo data, did you record anything?\u001b[39m\u001b[39m'\u001b[39m)\n\u001b[1;32m    512\u001b[0m \u001b[39mwith\u001b[39;00m \u001b[39mopen\u001b[39m(filename, \u001b[39m'\u001b[39m\u001b[39mwb\u001b[39m\u001b[39m'\u001b[39m) \u001b[39mas\u001b[39;00m f:\n\u001b[1;32m    513\u001b[0m     f\u001b[39m.\u001b[39mwrite(\u001b[39mself\u001b[39m\u001b[39m.\u001b[39maudio\u001b[39m.\u001b[39mvalue)\n",
      "\u001b[0;31mValueError\u001b[0m: No data, did you record anything?"
     ]
    }
   ],
   "source": [
    "\n",
    "recorder.save(\"input.wav\")\n",
    "generated_label, prob = classify_audio(\"input.wav\")\n",
    "\n",
    "print(\"generated label:\", generated_label, \"confidence:\", float_to_percent(prob))\n"
   ]
  }
 ],
 "metadata": {
  "kernelspec": {
   "display_name": "kws",
   "language": "python",
   "name": "python3"
  },
  "language_info": {
   "codemirror_mode": {
    "name": "ipython",
    "version": 3
   },
   "file_extension": ".py",
   "mimetype": "text/x-python",
   "name": "python",
   "nbconvert_exporter": "python",
   "pygments_lexer": "ipython3",
   "version": "3.11.4"
  },
  "orig_nbformat": 4
 },
 "nbformat": 4,
 "nbformat_minor": 2
}
